{
 "cells": [
  {
   "metadata": {},
   "cell_type": "markdown",
   "source": [
    "# NLP Disaster Tweets Kaggle Mini-Project\n",
    "\n",
    "Austin Townsend\n",
    "\n",
    "CU Boulder\n",
    "\n",
    "2/4/2025\n",
    "\n",
    "## Step 1: The Data and Problem Description\n",
    "\n",
    "### Problem Description\n",
    "This project focuses on Natural Language Processing for classifying disaster related tweets. Given a tweet's text, we need to predict whether it's about a real disaster (1) or not (0). The challenge comes from tweets that use disaster related words metaphorically rather than literally, like saying \"This song is fire my dude!\" versus \"The building is on fire bro!\"\n",
    "\n",
    "### Dataset Structure\n",
    "Our dataset consists of tweets with labels:\n",
    "- Training set: 10,000 labeled tweets\n",
    "- Test set: 10,900 tweets for prediction\n",
    "- Features for each tweet:\n",
    "  - text: The actual tweet content\n",
    "  - keyword: A key term from the tweet, may be blank\n",
    "  - location: Where the tweet was sent from, may be blank\n",
    "\n",
    "### Evaluation\n",
    "The models performance will be evaluated based on binary classification accuracy\n",
    "- Predict 1 for real disaster tweets\n",
    "- Predict 0 for non-disaster tweets\n",
    "\n",
    "The final submission should be a CSV file with tweet IDs and their predicted labels."
   ],
   "id": "d577f8d36a01d27"
  },
  {
   "metadata": {},
   "cell_type": "markdown",
   "source": [
    "## Step 2: Exploratory Data Analysis\n",
    "\n",
    "### 2.1 Data Loading and Initial Setup\n",
    "\n",
    "First, let's load our data and take a look at what we're working with."
   ],
   "id": "4c72b54d063dcf98"
  },
  {
   "metadata": {
    "ExecuteTime": {
     "end_time": "2025-02-07T15:39:40.128277Z",
     "start_time": "2025-02-07T15:39:40.101158Z"
    }
   },
   "cell_type": "code",
   "source": [
    "# Import necessary libraries\n",
    "import pandas as pd\n",
    "import numpy as np\n",
    "import matplotlib.pyplot as plt\n",
    "\n",
    "# Set random seed for reproducibility\n",
    "np.random.seed(42)\n",
    "\n",
    "# Load the training data\n",
    "train_df = pd.read_csv('data/train.csv')\n",
    "\n",
    "# Display basic information about the dataset\n",
    "print(\"Dataset shape:\", train_df.shape)\n",
    "print(\"\\nFirst few rows:\")\n",
    "print(train_df.head())\n",
    "print(\"\\nBasic information about the dataset:\")\n",
    "print(train_df.info())"
   ],
   "id": "7fe9db510cc068e7",
   "outputs": [
    {
     "name": "stdout",
     "output_type": "stream",
     "text": [
      "Dataset shape: (7613, 5)\n",
      "\n",
      "First few rows:\n",
      "   id keyword location                                               text  \\\n",
      "0   1     NaN      NaN  Our Deeds are the Reason of this #earthquake M...   \n",
      "1   4     NaN      NaN             Forest fire near La Ronge Sask. Canada   \n",
      "2   5     NaN      NaN  All residents asked to 'shelter in place' are ...   \n",
      "3   6     NaN      NaN  13,000 people receive #wildfires evacuation or...   \n",
      "4   7     NaN      NaN  Just got sent this photo from Ruby #Alaska as ...   \n",
      "\n",
      "   target  \n",
      "0       1  \n",
      "1       1  \n",
      "2       1  \n",
      "3       1  \n",
      "4       1  \n",
      "\n",
      "Basic information about the dataset:\n",
      "<class 'pandas.core.frame.DataFrame'>\n",
      "RangeIndex: 7613 entries, 0 to 7612\n",
      "Data columns (total 5 columns):\n",
      " #   Column    Non-Null Count  Dtype \n",
      "---  ------    --------------  ----- \n",
      " 0   id        7613 non-null   int64 \n",
      " 1   keyword   7552 non-null   object\n",
      " 2   location  5080 non-null   object\n",
      " 3   text      7613 non-null   object\n",
      " 4   target    7613 non-null   int64 \n",
      "dtypes: int64(2), object(3)\n",
      "memory usage: 297.5+ KB\n",
      "None\n"
     ]
    }
   ],
   "execution_count": 2
  },
  {
   "metadata": {},
   "cell_type": "markdown",
   "source": [
    "### 2.2 Basic Dataset Analysis\n",
    "Let's analyze the distribution of disaster vs non-disaster tweets and look at our missing values."
   ],
   "id": "3878507c60d4c640"
  },
  {
   "metadata": {
    "ExecuteTime": {
     "end_time": "2025-02-07T15:42:16.014660Z",
     "start_time": "2025-02-07T15:42:15.897716Z"
    }
   },
   "cell_type": "code",
   "source": [
    "# Check class distribution\n",
    "print(\"Class Distribution:\")\n",
    "print(train_df['target'].value_counts())\n",
    "print(\"\\nClass Distribution (%):\")\n",
    "print(train_df['target'].value_counts(normalize=True).round(3) * 100)\n",
    "\n",
    "# Create a simple bar plot of class distribution\n",
    "plt.figure(figsize=(8, 5))\n",
    "train_df['target'].value_counts().plot(kind='bar')\n",
    "plt.title('Distribution of Tweet Classes')\n",
    "plt.xlabel('Class (0=Not Disaster, 1=Disaster)')\n",
    "plt.ylabel('Number of Tweets')\n",
    "plt.tight_layout()\n",
    "plt.show()\n",
    "\n",
    "# Check missing values\n",
    "print(\"\\nMissing Values:\")\n",
    "print(train_df.isnull().sum())\n",
    "\n",
    "# Calculate average tweet length\n",
    "train_df['text_length'] = train_df['text'].str.len()\n",
    "print(\"\\nAverage Tweet Length:\")\n",
    "print(train_df.groupby('target')['text_length'].mean().round(2))"
   ],
   "id": "b78e2729ef70ed2c",
   "outputs": [
    {
     "name": "stdout",
     "output_type": "stream",
     "text": [
      "Class Distribution:\n",
      "target\n",
      "0    4342\n",
      "1    3271\n",
      "Name: count, dtype: int64\n",
      "\n",
      "Class Distribution (%):\n",
      "target\n",
      "0    57.0\n",
      "1    43.0\n",
      "Name: proportion, dtype: float64\n"
     ]
    },
    {
     "data": {
      "text/plain": [
       "<Figure size 800x500 with 1 Axes>"
      ],
      "image/png": "[encoded data removed]"
     },
     "metadata": {},
     "output_type": "display_data"
    },
    {
     "name": "stdout",
     "output_type": "stream",
     "text": [
      "\n",
      "Missing Values:\n",
      "id             0\n",
      "keyword       61\n",
      "location    2533\n",
      "text           0\n",
      "target         0\n",
      "dtype: int64\n",
      "\n",
      "Average Tweet Length:\n",
      "target\n",
      "0     95.71\n",
      "1    108.11\n",
      "Name: text_length, dtype: float64\n"
     ]
    }
   ],
   "execution_count": 3
  },
  {
   "metadata": {},
   "cell_type": "markdown",
   "source": [
    "### 2.3 Keyword Analysis\n",
    "Let's examine the most common keywords in our dataset and their relationship with disaster tweets."
   ],
   "id": "559b77abf88627e3"
  },
  {
   "metadata": {
    "ExecuteTime": {
     "end_time": "2025-02-07T16:21:37.296985Z",
     "start_time": "2025-02-07T16:21:37.203364Z"
    }
   },
   "cell_type": "code",
   "source": [
    "# Get top 10 most common keywords\n",
    "print(\"Top 10 Most Common Keywords:\")\n",
    "print(train_df['keyword'].value_counts().head(10))\n",
    "\n",
    "# Create a bar plot of top 10 keywords\n",
    "plt.figure(figsize=(10, 6))\n",
    "train_df['keyword'].value_counts().head(10).plot(kind='bar')\n",
    "plt.title('Top 10 Most Common Keywords')\n",
    "plt.xlabel('Keyword')\n",
    "plt.ylabel('Count')\n",
    "plt.xticks(rotation=45)\n",
    "plt.tight_layout()\n",
    "plt.show()\n",
    "\n",
    "# Calculate percentage of disaster tweets for top 5 keywords\n",
    "top_5_keywords = train_df['keyword'].value_counts().head(5).index\n",
    "keyword_disaster_pct = {}\n",
    "for keyword in top_5_keywords:\n",
    "    subset = train_df[train_df['keyword'] == keyword]\n",
    "    pct_disaster = (subset['target'] == 1).mean() * 100\n",
    "    keyword_disaster_pct[keyword] = round(pct_disaster, 2)\n",
    "\n",
    "print(\"\\nPercentage of Disaster Tweets for Top 5 Keywords:\")\n",
    "for keyword, pct in keyword_disaster_pct.items():\n",
    "    print(f\"{keyword}: {pct}%\")"
   ],
   "id": "d5eb0b5d4803e787",
   "outputs": [
    {
     "name": "stdout",
     "output_type": "stream",
     "text": [
      "Top 10 Most Common Keywords:\n",
      "keyword\n",
      "fatalities     45\n",
      "deluge         42\n",
      "armageddon     42\n",
      "sinking        41\n",
      "damage         41\n",
      "harm           41\n",
      "body%20bags    41\n",
      "outbreak       40\n",
      "evacuate       40\n",
      "fear           40\n",
      "Name: count, dtype: int64\n"
     ]
    },
    {
     "data": {
      "text/plain": [
       "<Figure size 1000x600 with 1 Axes>"
      ],
      "image/png": "[encoded data removed]"
     },
     "metadata": {},
     "output_type": "display_data"
    },
    {
     "name": "stdout",
     "output_type": "stream",
     "text": [
      "\n",
      "Percentage of Disaster Tweets for Top 5 Keywords:\n",
      "fatalities: 57.78%\n",
      "deluge: 14.29%\n",
      "armageddon: 11.9%\n",
      "sinking: 19.51%\n",
      "damage: 46.34%\n"
     ]
    }
   ],
   "execution_count": 4
  },
  {
   "metadata": {},
   "cell_type": "markdown",
   "source": [
    "### 2.4 Data Quality Check\n",
    "Let's check for any potential data quality issues in our tweets, which we might have to clean"
   ],
   "id": "bfb781902470cda1"
  },
  {
   "metadata": {
    "ExecuteTime": {
     "end_time": "2025-02-07T16:22:02.840537Z",
     "start_time": "2025-02-07T16:22:02.829247Z"
    }
   },
   "cell_type": "code",
   "source": [
    "# Check for empty tweets\n",
    "print(\"Empty tweets:\", train_df[train_df['text'].str.len() == 0].shape[0])\n",
    "\n",
    "# Check for duplicate tweets\n",
    "print(\"\\nDuplicate tweets:\", train_df['text'].duplicated().sum())\n",
    "\n",
    "# Look at some very short tweets (potential data quality issues)\n",
    "print(\"\\nSample of very short tweets (< 20 characters):\")\n",
    "print(train_df[train_df['text'].str.len() < 20][['text', 'target']].head())"
   ],
   "id": "812e29d808a086ed",
   "outputs": [
    {
     "name": "stdout",
     "output_type": "stream",
     "text": [
      "Empty tweets: 0\n",
      "\n",
      "Duplicate tweets: 110\n",
      "\n",
      "Sample of very short tweets (< 20 characters):\n",
      "                 text  target\n",
      "15     What's up man?       0\n",
      "16      I love fruits       0\n",
      "17   Summer is lovely       0\n",
      "18  My car is so fast       0\n",
      "21  London is cool ;)       0\n"
     ]
    }
   ],
   "execution_count": 5
  },
  {
   "metadata": {},
   "cell_type": "markdown",
   "source": [
    "## 2.5 EDA Findings and Analysis Plan\n",
    "\n",
    "Key Findings:\n",
    "1. Dataset Characteristics:\n",
    "   - Training set has 7,613 tweets\n",
    "   - Class distribution: 57% non-disaster, 43% disaster tweets\n",
    "   - Disaster tweets tend to be longer (108 vs 96 characters)\n",
    "   - Keywords like 'fatalities' and 'damage' are strong indicators of disasters\n",
    "\n",
    "2. Data Quality:\n",
    "   - No missing values in text and target columns\n",
    "   - 110 duplicate tweets (less than 2% of data)\n",
    "   - All tweets, including short ones, appear to be valid content\n",
    "\n",
    "Analysis Plan:\n",
    "1. Text Preprocessing:\n",
    "   - Clean and tokenize tweets (lowercase, remove special characters)\n",
    "   - Convert text to numerical features using word embedding\n",
    "\n",
    "2. Modeling:\n",
    "   - Build simple sequential neural network for binary classification\n",
    "   - Account for class imbalance (57% vs 43%)"
   ],
   "id": "a9c6d953a86f1ad3"
  },
  {
   "metadata": {},
   "cell_type": "markdown",
   "source": [
    "## Step 3: Model Architecture\n",
    "\n",
    "### 3.1 Text Processing and Word Embedding\n",
    "\n",
    "For this project, we'll use TF-IDF (Term Frequency-Inverse Document Frequency) to convert our tweet text into numerical features. TF-IDF works by:\n",
    "1. Calculating how frequently a word appears in a document (TF)\n",
    "2. Balancing it against how common that word is across all documents (IDF)\n",
    "3. Giving higher weights to words that are important to a specific document but not common across all documents\n",
    "\n",
    "This method is particularly suitable for our disaster classification task because:\n",
    "- It can capture important disaster-related keywords\n",
    "- It's simple to implement and understand\n",
    "- It works well with short texts like tweets"
   ],
   "id": "899a385f07f275a6"
  },
  {
   "metadata": {
    "ExecuteTime": {
     "end_time": "2025-02-08T16:30:51.556700Z",
     "start_time": "2025-02-08T16:30:51.461607Z"
    }
   },
   "cell_type": "code",
   "source": [
    "import re\n",
    "from sklearn.feature_extraction.text import TfidfVectorizer\n",
    "from sklearn.model_selection import train_test_split\n",
    "\n",
    "# Text preprocessing function\n",
    "def preprocess_text(text):\n",
    "    # Convert to lowercase\n",
    "    text = text.lower()\n",
    "    # Remove URLs\n",
    "    text = re.sub(r'http\\S+|www\\S+|https\\S+', '', text)\n",
    "    # Remove special characters and numbers\n",
    "    text = re.sub(r'[^\\w\\s]', '', text)\n",
    "    return text\n",
    "\n",
    "# Preprocess the tweets\n",
    "train_df['processed_text'] = train_df['text'].apply(preprocess_text)\n",
    "\n",
    "# Create TF-IDF features\n",
    "tfidf = TfidfVectorizer(max_features=5000)  # Limit to top 5000 features\n",
    "X = tfidf.fit_transform(train_df['processed_text'])\n",
    "y = train_df['target']\n",
    "\n",
    "# Split the data\n",
    "X_train, X_val, y_train, y_val = train_test_split(X, y, test_size=0.2, random_state=42)\n",
    "\n",
    "print(\"TF-IDF feature shape:\", X.shape)\n",
    "print(\"Number of training samples:\", X_train.shape[0])\n",
    "print(\"Number of validation samples:\", X_val.shape[0])"
   ],
   "id": "e11880969f609f27",
   "outputs": [
    {
     "name": "stdout",
     "output_type": "stream",
     "text": [
      "TF-IDF feature shape: (7613, 5000)\n",
      "Number of training samples: 6090\n",
      "Number of validation samples: 1523\n"
     ]
    }
   ],
   "execution_count": 9
  },
  {
   "metadata": {},
   "cell_type": "markdown",
   "source": [
    "### 3.2 Model Architecture\n",
    "\n",
    "For our disaster tweet classification task, we'll use a straightforward neural network with:\n",
    "- An input layer matching our TF-IDF features\n",
    "- Two dense hidden layers with dropout to prevent overfitting\n",
    "- A binary output layer for classification\n",
    "\n",
    "This architecture is suitable because:\n",
    "- It's simple but effective for text classification\n",
    "- Dropout layers help prevent overfitting on our relatively small dataset\n",
    "- Dense layers can learn patterns in our TF-IDF features"
   ],
   "id": "d19198712916ba39"
  },
  {
   "metadata": {
    "ExecuteTime": {
     "end_time": "2025-02-08T16:31:55.591461Z",
     "start_time": "2025-02-08T16:31:55.567333Z"
    }
   },
   "cell_type": "code",
   "source": [
    "from keras.src.models import Sequential\n",
    "from keras.src.layers import Dense, Dropout, Input\n",
    "from keras.src.optimizers import Adam\n",
    "\n",
    "# Build the model\n",
    "model = Sequential([\n",
    "    # Input layer\n",
    "    Input(shape=(5000,)),\n",
    "    Dense(256, activation='relu'),\n",
    "    Dropout(0.3),\n",
    "\n",
    "    # Hidden layer\n",
    "    Dense(64, activation='relu'),\n",
    "    Dropout(0.2),\n",
    "\n",
    "    # Output layer\n",
    "    Dense(1, activation='sigmoid')\n",
    "])\n",
    "\n",
    "# Compile the model\n",
    "model.compile(\n",
    "    optimizer=Adam(learning_rate=0.001),\n",
    "    loss='binary_crossentropy',\n",
    "    metrics=['accuracy']\n",
    ")\n",
    "\n",
    "# Display model summary\n",
    "model.summary()"
   ],
   "id": "b89d3e738b085c8f",
   "outputs": [
    {
     "data": {
      "text/plain": [
       "\u001B[1mModel: \"sequential_4\"\u001B[0m\n"
      ],
      "text/html": [
       "<pre style=\"white-space:pre;overflow-x:auto;line-height:normal;font-family:Menlo,'DejaVu Sans Mono',consolas,'Courier New',monospace\"><span style=\"font-weight: bold\">Model: \"sequential_4\"</span>\n",
       "</pre>\n"
      ]
     },
     "metadata": {},
     "output_type": "display_data"
    },
    {
     "data": {
      "text/plain": [
       "┏━━━━━━━━━━━━━━━━━━━━━━━━━━━━━━━━━┳━━━━━━━━━━━━━━━━━━━━━━━━┳━━━━━━━━━━━━━━━┓\n",
       "┃\u001B[1m \u001B[0m\u001B[1mLayer (type)                   \u001B[0m\u001B[1m \u001B[0m┃\u001B[1m \u001B[0m\u001B[1mOutput Shape          \u001B[0m\u001B[1m \u001B[0m┃\u001B[1m \u001B[0m\u001B[1m      Param #\u001B[0m\u001B[1m \u001B[0m┃\n",
       "┡━━━━━━━━━━━━━━━━━━━━━━━━━━━━━━━━━╇━━━━━━━━━━━━━━━━━━━━━━━━╇━━━━━━━━━━━━━━━┩\n",
       "│ dense_12 (\u001B[38;5;33mDense\u001B[0m)                │ (\u001B[38;5;45mNone\u001B[0m, \u001B[38;5;34m256\u001B[0m)            │     \u001B[38;5;34m1,280,256\u001B[0m │\n",
       "├─────────────────────────────────┼────────────────────────┼───────────────┤\n",
       "│ dropout_5 (\u001B[38;5;33mDropout\u001B[0m)             │ (\u001B[38;5;45mNone\u001B[0m, \u001B[38;5;34m256\u001B[0m)            │             \u001B[38;5;34m0\u001B[0m │\n",
       "├─────────────────────────────────┼────────────────────────┼───────────────┤\n",
       "│ dense_13 (\u001B[38;5;33mDense\u001B[0m)                │ (\u001B[38;5;45mNone\u001B[0m, \u001B[38;5;34m64\u001B[0m)             │        \u001B[38;5;34m16,448\u001B[0m │\n",
       "├─────────────────────────────────┼────────────────────────┼───────────────┤\n",
       "│ dropout_6 (\u001B[38;5;33mDropout\u001B[0m)             │ (\u001B[38;5;45mNone\u001B[0m, \u001B[38;5;34m64\u001B[0m)             │             \u001B[38;5;34m0\u001B[0m │\n",
       "├─────────────────────────────────┼────────────────────────┼───────────────┤\n",
       "│ dense_14 (\u001B[38;5;33mDense\u001B[0m)                │ (\u001B[38;5;45mNone\u001B[0m, \u001B[38;5;34m1\u001B[0m)              │            \u001B[38;5;34m65\u001B[0m │\n",
       "└─────────────────────────────────┴────────────────────────┴───────────────┘\n"
      ],
      "text/html": [
       "<pre style=\"white-space:pre;overflow-x:auto;line-height:normal;font-family:Menlo,'DejaVu Sans Mono',consolas,'Courier New',monospace\">┏━━━━━━━━━━━━━━━━━━━━━━━━━━━━━━━━━┳━━━━━━━━━━━━━━━━━━━━━━━━┳━━━━━━━━━━━━━━━┓\n",
       "┃<span style=\"font-weight: bold\"> Layer (type)                    </span>┃<span style=\"font-weight: bold\"> Output Shape           </span>┃<span style=\"font-weight: bold\">       Param # </span>┃\n",
       "┡━━━━━━━━━━━━━━━━━━━━━━━━━━━━━━━━━╇━━━━━━━━━━━━━━━━━━━━━━━━╇━━━━━━━━━━━━━━━┩\n",
       "│ dense_12 (<span style=\"color: #0087ff; text-decoration-color: #0087ff\">Dense</span>)                │ (<span style=\"color: #00d7ff; text-decoration-color: #00d7ff\">None</span>, <span style=\"color: #00af00; text-decoration-color: #00af00\">256</span>)            │     <span style=\"color: #00af00; text-decoration-color: #00af00\">1,280,256</span> │\n",
       "├─────────────────────────────────┼────────────────────────┼───────────────┤\n",
       "│ dropout_5 (<span style=\"color: #0087ff; text-decoration-color: #0087ff\">Dropout</span>)             │ (<span style=\"color: #00d7ff; text-decoration-color: #00d7ff\">None</span>, <span style=\"color: #00af00; text-decoration-color: #00af00\">256</span>)            │             <span style=\"color: #00af00; text-decoration-color: #00af00\">0</span> │\n",
       "├─────────────────────────────────┼────────────────────────┼───────────────┤\n",
       "│ dense_13 (<span style=\"color: #0087ff; text-decoration-color: #0087ff\">Dense</span>)                │ (<span style=\"color: #00d7ff; text-decoration-color: #00d7ff\">None</span>, <span style=\"color: #00af00; text-decoration-color: #00af00\">64</span>)             │        <span style=\"color: #00af00; text-decoration-color: #00af00\">16,448</span> │\n",
       "├─────────────────────────────────┼────────────────────────┼───────────────┤\n",
       "│ dropout_6 (<span style=\"color: #0087ff; text-decoration-color: #0087ff\">Dropout</span>)             │ (<span style=\"color: #00d7ff; text-decoration-color: #00d7ff\">None</span>, <span style=\"color: #00af00; text-decoration-color: #00af00\">64</span>)             │             <span style=\"color: #00af00; text-decoration-color: #00af00\">0</span> │\n",
       "├─────────────────────────────────┼────────────────────────┼───────────────┤\n",
       "│ dense_14 (<span style=\"color: #0087ff; text-decoration-color: #0087ff\">Dense</span>)                │ (<span style=\"color: #00d7ff; text-decoration-color: #00d7ff\">None</span>, <span style=\"color: #00af00; text-decoration-color: #00af00\">1</span>)              │            <span style=\"color: #00af00; text-decoration-color: #00af00\">65</span> │\n",
       "└─────────────────────────────────┴────────────────────────┴───────────────┘\n",
       "</pre>\n"
      ]
     },
     "metadata": {},
     "output_type": "display_data"
    },
    {
     "data": {
      "text/plain": [
       "\u001B[1m Total params: \u001B[0m\u001B[38;5;34m1,296,769\u001B[0m (4.95 MB)\n"
      ],
      "text/html": [
       "<pre style=\"white-space:pre;overflow-x:auto;line-height:normal;font-family:Menlo,'DejaVu Sans Mono',consolas,'Courier New',monospace\"><span style=\"font-weight: bold\"> Total params: </span><span style=\"color: #00af00; text-decoration-color: #00af00\">1,296,769</span> (4.95 MB)\n",
       "</pre>\n"
      ]
     },
     "metadata": {},
     "output_type": "display_data"
    },
    {
     "data": {
      "text/plain": [
       "\u001B[1m Trainable params: \u001B[0m\u001B[38;5;34m1,296,769\u001B[0m (4.95 MB)\n"
      ],
      "text/html": [
       "<pre style=\"white-space:pre;overflow-x:auto;line-height:normal;font-family:Menlo,'DejaVu Sans Mono',consolas,'Courier New',monospace\"><span style=\"font-weight: bold\"> Trainable params: </span><span style=\"color: #00af00; text-decoration-color: #00af00\">1,296,769</span> (4.95 MB)\n",
       "</pre>\n"
      ]
     },
     "metadata": {},
     "output_type": "display_data"
    },
    {
     "data": {
      "text/plain": [
       "\u001B[1m Non-trainable params: \u001B[0m\u001B[38;5;34m0\u001B[0m (0.00 B)\n"
      ],
      "text/html": [
       "<pre style=\"white-space:pre;overflow-x:auto;line-height:normal;font-family:Menlo,'DejaVu Sans Mono',consolas,'Courier New',monospace\"><span style=\"font-weight: bold\"> Non-trainable params: </span><span style=\"color: #00af00; text-decoration-color: #00af00\">0</span> (0.00 B)\n",
       "</pre>\n"
      ]
     },
     "metadata": {},
     "output_type": "display_data"
    }
   ],
   "execution_count": 11
  },
  {
   "metadata": {},
   "cell_type": "markdown",
   "source": [
    "### 3.3 Model Architecture Explanation\n",
    "\n",
    "Our final model architecture consists of:\n",
    "\n",
    "1. Input Layer\n",
    "   - Takes 5,000 TF-IDF features as input\n",
    "   - Represents our processed tweet text\n",
    "\n",
    "2. First Hidden Layer\n",
    "   - 256 neurons with ReLU activation\n",
    "   - 30% dropout to prevent overfitting\n",
    "   - Reduces input dimensionality while learning key features\n",
    "\n",
    "3. Second Hidden Layer\n",
    "   - 64 neurons with ReLU activation\n",
    "   - 20% dropout\n",
    "   - Further refines learned features\n",
    "\n",
    "4. Output Layer\n",
    "   - Single neuron with sigmoid activation\n",
    "   - Produces probability of tweet being about a real disaster\n",
    "\n",
    "The model has approximately 1.3M parameters (4.95 MB), which is a reasonable size for our dataset of 7,613 tweets. We use:\n",
    "- ReLU activation for efficient training\n",
    "- Dropout layers to combat overfitting\n",
    "- Binary cross-entropy loss for binary classification\n",
    "- Adam optimizer with learning rate 0.001\n",
    "\n",
    "### References\n",
    "1. Scikit-learn TF-IDF documentation: https://scikit-learn.org/stable/modules/generated/sklearn.feature_extraction.text.TfidfVectorizer.html\n",
    "2. Keras documentation: https://keras.io/api/"
   ],
   "id": "c8f290f3cbef845d"
  },
  {
   "metadata": {},
   "cell_type": "markdown",
   "source": [
    "## Step 4: Results and Analysis\n",
    "\n",
    "### 4.1 Baseline Model Training and Evaluation\n",
    "\n",
    "First, let's train our baseline model and establish initial performance metrics. We'll train the model for several epochs and monitor both training and validation performance.\n"
   ],
   "id": "ebd92d7c3ba7bd74"
  },
  {
   "metadata": {
    "ExecuteTime": {
     "end_time": "2025-02-08T16:43:03.579502Z",
     "start_time": "2025-02-08T16:42:58.905238Z"
    }
   },
   "cell_type": "code",
   "source": [
    "# Train the model\n",
    "history = model.fit(\n",
    "    X_train,\n",
    "    y_train,\n",
    "    epochs=5,\n",
    "    batch_size=32,\n",
    "    validation_data=(X_val, y_val),\n",
    "    verbose=1\n",
    ")\n",
    "\n",
    "# Evaluate the model\n",
    "val_loss, val_accuracy = model.evaluate(X_val, y_val, verbose=0)\n",
    "print(f'\\nValidation Accuracy: {val_accuracy:.4f}')\n",
    "print(f'Validation Loss: {val_loss:.4f}')\n",
    "\n",
    "# Plot training history\n",
    "plt.figure(figsize=(10, 4))\n",
    "\n",
    "# Plot training & validation accuracy\n",
    "plt.subplot(1, 2, 1)\n",
    "plt.plot(history.history['accuracy'])\n",
    "plt.plot(history.history['val_accuracy'])\n",
    "plt.title('Model Accuracy')\n",
    "plt.ylabel('Accuracy')\n",
    "plt.xlabel('Epoch')\n",
    "plt.legend(['Train', 'Validation'])\n",
    "\n",
    "# Plot training & validation loss\n",
    "plt.subplot(1, 2, 2)\n",
    "plt.plot(history.history['loss'])\n",
    "plt.plot(history.history['val_loss'])\n",
    "plt.title('Model Loss')\n",
    "plt.ylabel('Loss')\n",
    "plt.xlabel('Epoch')\n",
    "plt.legend(['Train', 'Validation'])\n",
    "\n",
    "plt.tight_layout()\n",
    "plt.show()"
   ],
   "id": "a6e282765ba7a200",
   "outputs": [
    {
     "name": "stdout",
     "output_type": "stream",
     "text": [
      "Epoch 1/5\n",
      "\u001B[1m191/191\u001B[0m \u001B[32m━━━━━━━━━━━━━━━━━━━━\u001B[0m\u001B[37m\u001B[0m \u001B[1m1s\u001B[0m 4ms/step - accuracy: 0.6331 - loss: 0.6272 - val_accuracy: 0.8089 - val_loss: 0.4582\n",
      "Epoch 2/5\n",
      "\u001B[1m191/191\u001B[0m \u001B[32m━━━━━━━━━━━━━━━━━━━━\u001B[0m\u001B[37m\u001B[0m \u001B[1m1s\u001B[0m 4ms/step - accuracy: 0.8338 - loss: 0.3780 - val_accuracy: 0.7938 - val_loss: 0.4984\n",
      "Epoch 3/5\n",
      "\u001B[1m191/191\u001B[0m \u001B[32m━━━━━━━━━━━━━━━━━━━━\u001B[0m\u001B[37m\u001B[0m \u001B[1m1s\u001B[0m 4ms/step - accuracy: 0.8977 - loss: 0.2609 - val_accuracy: 0.7794 - val_loss: 0.5914\n",
      "Epoch 4/5\n",
      "\u001B[1m191/191\u001B[0m \u001B[32m━━━━━━━━━━━━━━━━━━━━\u001B[0m\u001B[37m\u001B[0m \u001B[1m1s\u001B[0m 4ms/step - accuracy: 0.9355 - loss: 0.1762 - val_accuracy: 0.7774 - val_loss: 0.7041\n",
      "Epoch 5/5\n",
      "\u001B[1m191/191\u001B[0m \u001B[32m━━━━━━━━━━━━━━━━━━━━\u001B[0m\u001B[37m\u001B[0m \u001B[1m1s\u001B[0m 4ms/step - accuracy: 0.9609 - loss: 0.1167 - val_accuracy: 0.7702 - val_loss: 0.8040\n",
      "\n",
      "Validation Accuracy: 0.7702\n",
      "Validation Loss: 0.8040\n"
     ]
    },
    {
     "data": {
      "text/plain": [
       "<Figure size 1000x400 with 2 Axes>"
      ],
      "image/png": "[encoded data removed]"
     },
     "metadata": {},
     "output_type": "display_data"
    }
   ],
   "execution_count": 12
  },
  {
   "metadata": {},
   "cell_type": "markdown",
   "source": [
    "Our baseline model achieved a validation accuracy of 77.02%, which provides a good starting point for improvement. The relatively high validation loss (0.8040) suggests there may be room for optimization.\n",
    "\n",
    "### 4.2 Model Optimization\n",
    "\n",
    "Let's try a few modifications to improve performance:\n",
    "\n",
    "1. Adjust the learning rate\n",
    "2. Modify dropout rates\n",
    "3. Add class weights to handle imbalance\n",
    "\n",
    "First, let's create a model with modified parameters:"
   ],
   "id": "2001a6e8bf42af6"
  },
  {
   "metadata": {
    "ExecuteTime": {
     "end_time": "2025-02-08T16:43:51.849018Z",
     "start_time": "2025-02-08T16:43:46.952424Z"
    }
   },
   "cell_type": "code",
   "source": [
    "# Calculate class weights\n",
    "from sklearn.utils.class_weight import compute_class_weight\n",
    "class_weights = compute_class_weight(\n",
    "    class_weight='balanced',\n",
    "    classes=np.unique(y_train),\n",
    "    y=y_train\n",
    ")\n",
    "class_weight_dict = dict(zip(np.unique(y_train), class_weights))\n",
    "\n",
    "# Create modified model\n",
    "model_v2 = Sequential([\n",
    "    Input(shape=(5000,)),\n",
    "    Dense(256, activation='relu'),\n",
    "    Dropout(0.4),  # Increased dropout\n",
    "    Dense(128, activation='relu'),  # Added another layer\n",
    "    Dropout(0.3),\n",
    "    Dense(64, activation='relu'),\n",
    "    Dropout(0.2),\n",
    "    Dense(1, activation='sigmoid')\n",
    "])\n",
    "\n",
    "# Compile with modified learning rate\n",
    "model_v2.compile(\n",
    "    optimizer=Adam(learning_rate=0.0005),  # Reduced learning rate\n",
    "    loss='binary_crossentropy',\n",
    "    metrics=['accuracy']\n",
    ")\n",
    "\n",
    "# Train with class weights\n",
    "history_v2 = model_v2.fit(\n",
    "    X_train,\n",
    "    y_train,\n",
    "    epochs=5,\n",
    "    batch_size=32,\n",
    "    validation_data=(X_val, y_val),\n",
    "    class_weight=class_weight_dict,\n",
    "    verbose=1\n",
    ")\n",
    "\n",
    "# Evaluate\n",
    "val_loss_v2, val_accuracy_v2 = model_v2.evaluate(X_val, y_val, verbose=0)\n",
    "print(f'\\nValidation Accuracy (Model v2): {val_accuracy_v2:.4f}')\n",
    "print(f'Validation Loss (Model v2): {val_loss_v2:.4f}')"
   ],
   "id": "aeb4f8a93eb59489",
   "outputs": [
    {
     "name": "stdout",
     "output_type": "stream",
     "text": [
      "Epoch 1/5\n",
      "\u001B[1m191/191\u001B[0m \u001B[32m━━━━━━━━━━━━━━━━━━━━\u001B[0m\u001B[37m\u001B[0m \u001B[1m1s\u001B[0m 4ms/step - accuracy: 0.5378 - loss: 0.6647 - val_accuracy: 0.8063 - val_loss: 0.4512\n",
      "Epoch 2/5\n",
      "\u001B[1m191/191\u001B[0m \u001B[32m━━━━━━━━━━━━━━━━━━━━\u001B[0m\u001B[37m\u001B[0m \u001B[1m1s\u001B[0m 4ms/step - accuracy: 0.8273 - loss: 0.4212 - val_accuracy: 0.8011 - val_loss: 0.4746\n",
      "Epoch 3/5\n",
      "\u001B[1m191/191\u001B[0m \u001B[32m━━━━━━━━━━━━━━━━━━━━\u001B[0m\u001B[37m\u001B[0m \u001B[1m1s\u001B[0m 4ms/step - accuracy: 0.8890 - loss: 0.2951 - val_accuracy: 0.7846 - val_loss: 0.5569\n",
      "Epoch 4/5\n",
      "\u001B[1m191/191\u001B[0m \u001B[32m━━━━━━━━━━━━━━━━━━━━\u001B[0m\u001B[37m\u001B[0m \u001B[1m1s\u001B[0m 5ms/step - accuracy: 0.9316 - loss: 0.1936 - val_accuracy: 0.7761 - val_loss: 0.6436\n",
      "Epoch 5/5\n",
      "\u001B[1m191/191\u001B[0m \u001B[32m━━━━━━━━━━━━━━━━━━━━\u001B[0m\u001B[37m\u001B[0m \u001B[1m1s\u001B[0m 4ms/step - accuracy: 0.9593 - loss: 0.1290 - val_accuracy: 0.7748 - val_loss: 0.7310\n",
      "\n",
      "Validation Accuracy (Model v2): 0.7748\n",
      "Validation Loss (Model v2): 0.7310\n"
     ]
    }
   ],
   "execution_count": 13
  },
  {
   "metadata": {},
   "cell_type": "markdown",
   "source": [
    "### 4.3 Model Comparison\n",
    "\n",
    "Let's compare the performance of our two models:\n",
    "\n",
    "| Model | Description | Val Accuracy | Val Loss |\n",
    "|-------|-------------|--------------|----------|\n",
    "| Baseline | Basic architecture | 77.02% | 0.8040 |\n",
    "| Model v2 | Added layers + class weights | 77.48% | 0.7310 |\n",
    "\n",
    "Model v2 shows slight improvements in both accuracy and loss, likely due to:\n",
    "- Class weight balancing\n",
    "- Additional hidden layer\n",
    "- Increased dropout rates\n",
    "- Lower learning rate\n",
    "\n",
    "### 4.4 Kaggle Submission\n",
    "\n",
    "Since Model v2 performed better, let's use it to generate predictions for the Kaggle submission:"
   ],
   "id": "74a20951e4936174"
  },
  {
   "metadata": {
    "ExecuteTime": {
     "end_time": "2025-02-08T16:44:51.391234Z",
     "start_time": "2025-02-08T16:44:51.082449Z"
    }
   },
   "cell_type": "code",
   "source": [
    "# Load and preprocess test data\n",
    "test_df = pd.read_csv('data/test.csv')\n",
    "test_df['processed_text'] = test_df['text'].apply(preprocess_text)\n",
    "\n",
    "# Transform test data using the same TF-IDF vectorizer\n",
    "X_test = tfidf.transform(test_df['processed_text'])\n",
    "\n",
    "# Generate predictions\n",
    "predictions = model_v2.predict(X_test)\n",
    "\n",
    "# Create submission dataframe\n",
    "submission_df = pd.DataFrame({\n",
    "    'id': test_df['id'],\n",
    "    'target': (predictions > 0.5).astype(int).flatten()\n",
    "})\n",
    "\n",
    "# Save submission file\n",
    "submission_df.to_csv('submission.csv', index=False)\n",
    "print(\"\\nSubmission file created, look in project root for 'submission.csv'\")\n",
    "print(\"\\nFirst few predictions:\")\n",
    "print(submission_df.head())"
   ],
   "id": "94c778b040bdb205",
   "outputs": [
    {
     "name": "stdout",
     "output_type": "stream",
     "text": [
      "\u001B[1m102/102\u001B[0m \u001B[32m━━━━━━━━━━━━━━━━━━━━\u001B[0m\u001B[37m\u001B[0m \u001B[1m0s\u001B[0m 2ms/step\n",
      "\n",
      "Submission file created!\n",
      "\n",
      "First few predictions:\n",
      "   id  target\n",
      "0   0       1\n",
      "1   2       1\n",
      "2   3       1\n",
      "3   9       1\n",
      "4  11       1\n"
     ]
    }
   ],
   "execution_count": 14
  },
  {
   "metadata": {},
   "cell_type": "markdown",
   "source": [
    "### 4.5 Final Results Analysis\n",
    "\n",
    "Our model achieved the following results:\n",
    "\n",
    "1. Internal Validation Performance:\n",
    "   - Validation Accuracy: 77.48%\n",
    "   - Validation Loss: 0.7310\n",
    "\n",
    "2. Kaggle Performance:\n",
    "   - Public Score: 0.77137\n",
    "   - This score aligns well with our validation accuracy\n",
    "\n",
    "### 4.6 Model Performance Summary\n",
    "\n",
    "| Metric | Score |\n",
    "|--------|--------|\n",
    "| Training Accuracy | 77.48% |\n",
    "| Validation Loss | 0.7310 |\n",
    "| Kaggle Score | 0.77137 |\n",
    "\n",
    "Our model improvements included:\n",
    "- Class weight balancing for imbalanced data\n",
    "- Multiple dropout layers\n",
    "- Additional hidden layer\n",
    "- Reduced learning rate (0.0005)"
   ],
   "id": "880889eee3a530ab"
  },
  {
   "metadata": {},
   "cell_type": "markdown",
   "source": [
    "## Step 5: Conclusion\n",
    "\n",
    "### 5.1 Project Summary\n",
    "This project focused on developing a natural language processing model to classify tweets as either real disasters or non-disasters. Our approach used TF-IDF for text representation and a neural network for classification, achieving a Kaggle score of 0.77137.\n",
    "\n",
    "### 5.2 What Worked\n",
    "1. Text Processing and Feature Engineering\n",
    "  - TF-IDF effectively captured important word frequencies\n",
    "  - Basic text preprocessing (lowercase, special character removal)\n",
    "\n",
    "2. Model Architecture\n",
    "  - Multi-layer neural network with dropout\n",
    "  - Class weight balancing addressed data imbalance\n",
    "  - Lower learning rate provided stable training\n",
    "\n",
    "### 5.3 What Could Be Improved\n",
    "1. Feature Engineering\n",
    "  - Incorporate keyword and location features\n",
    "  - Try more sophisticated text preprocessing\n",
    "  - Experiment with other word embedding techniques (Word2Vec, BERT)\n",
    "\n",
    "2. Model Architecture\n",
    "  - Test deeper network architectures\n",
    "  - Experiment with different layer sizes\n",
    "  - Try different optimization algorithms\n",
    "\n",
    "### 5.4 Future Work\n",
    "For future iterations of this project, focus areas could include:\n",
    "- Implementing data augmentation for text\n",
    "- Testing modern transformer architectures\n",
    "- Creating an ensemble of multiple models\n",
    "- Adding cross-validation for more robust evaluation"
   ],
   "id": "8dbfb577e1200fc9"
  }
 ],
 "metadata": {
  "kernelspec": {
   "display_name": "Python 3",
   "language": "python",
   "name": "python3"
  },
  "language_info": {
   "codemirror_mode": {
    "name": "ipython",
    "version": 2
   },
   "file_extension": ".py",
   "mimetype": "text/x-python",
   "name": "python",
   "nbconvert_exporter": "python",
   "pygments_lexer": "ipython2",
   "version": "2.7.6"
  }
 },
 "nbformat": 4,
 "nbformat_minor": 5
}
